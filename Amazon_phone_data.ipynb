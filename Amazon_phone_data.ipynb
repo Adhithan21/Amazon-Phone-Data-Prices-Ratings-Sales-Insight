{
 "cells": [
  {
   "cell_type": "code",
   "execution_count": 81,
   "metadata": {},
   "outputs": [],
   "source": [
    "import pandas as pd\n",
    "import numpy as np\n",
    "import warnings\n",
    "warnings.filterwarnings(\"ignore\")\n",
    "import matplotlib.pyplot as plt\n",
    "import seaborn as sns"
   ]
  },
  {
   "cell_type": "code",
   "execution_count": 72,
   "metadata": {},
   "outputs": [],
   "source": [
    "# Load the dataset\n",
    "df = pd.read_csv('C:/Users/study/Downloads/vscode/phone search.csv')"
   ]
  },
  {
   "cell_type": "code",
   "execution_count": null,
   "metadata": {},
   "outputs": [],
   "source": [
    "df.head(5)"
   ]
  },
  {
   "cell_type": "code",
   "execution_count": null,
   "metadata": {},
   "outputs": [],
   "source": [
    "df.info()"
   ]
  },
  {
   "cell_type": "code",
   "execution_count": null,
   "metadata": {},
   "outputs": [],
   "source": [
    "df.isnull().sum()"
   ]
  },
  {
   "cell_type": "markdown",
   "metadata": {},
   "source": [
    "### pre-processing"
   ]
  },
  {
   "cell_type": "code",
   "execution_count": 76,
   "metadata": {},
   "outputs": [],
   "source": [
    "# Drop unwanted columns\n",
    "df_cleaned = df.drop(columns=[\n",
    "    'unit_price',              # Too many missing values\n",
    "    'unit_count',              # Too many missing values\n",
    "    'coupon_text',             # Irrelevant for analysis\n",
    "    'product_photo',           # Not relevant for analysis\n",
    "    'product_url',             # Not relevant for analysis\n",
    "])"
   ]
  },
  {
   "cell_type": "code",
   "execution_count": null,
   "metadata": {},
   "outputs": [],
   "source": [
    "df_cleaned.isnull().sum()"
   ]
  },
  {
   "cell_type": "code",
   "execution_count": 78,
   "metadata": {},
   "outputs": [],
   "source": [
    "# Convert Data Types\n",
    "df_cleaned['product_price'] = df_cleaned['product_price'].replace('[\\$,]', '', regex=True).astype(float)\n",
    "df_cleaned['product_original_price'] = df_cleaned['product_original_price'].replace('[\\$,]', '', regex=True)\n",
    "df_cleaned['product_original_price'] = pd.to_numeric(df_cleaned['product_original_price'], errors='coerce')\n",
    "\n",
    "# Convert 'sales_volume' to numeric by cleaning \"4K+\" and other text\n",
    "df_cleaned['sales_volume_cleaned'] = df_cleaned['sales_volume'].str.extract('(\\d+\\.?\\d*)')\n",
    "df_cleaned['sales_volume_cleaned'] = df_cleaned['sales_volume_cleaned'].astype(float) * np.where(df_cleaned['sales_volume'].str.contains('K'), 1000, 1)"
   ]
  },
  {
   "cell_type": "code",
   "execution_count": 79,
   "metadata": {},
   "outputs": [],
   "source": [
    "# Fill missing prices with median values\n",
    "df_cleaned['product_price'].fillna(df_cleaned['product_price'].median(), inplace=True)\n",
    "df_cleaned['product_original_price'].fillna(df_cleaned['product_original_price'].median(), inplace=True)\n",
    "df_cleaned['sales_volume_cleaned'].fillna(df_cleaned['sales_volume_cleaned'].median(), inplace=True)\n",
    "df_cleaned['product_minimum_offer_price'].fillna(df_cleaned['product_price'], inplace=True)\n",
    "df_cleaned['delivery'].fillna('Not Available', inplace=True)\n",
    "df_cleaned['product_availability'].fillna('Not Available', inplace=True)\n",
    "df_cleaned['currency'].fillna('USD', inplace=True)\n",
    "\n",
    "# Drop rows where 'product_star_rating' or 'product_num_ratings' is missing\n",
    "df_cleaned.dropna(subset=['product_star_rating', 'product_num_ratings'], inplace=True)\n",
    "\n",
    "# Drop the original 'sales_volume' column as we now have 'sales_volume_cleaned'\n",
    "df_cleaned.drop(columns=['sales_volume'], inplace=True)"
   ]
  },
  {
   "cell_type": "code",
   "execution_count": null,
   "metadata": {},
   "outputs": [],
   "source": [
    "df_cleaned.isnull().sum()"
   ]
  },
  {
   "cell_type": "markdown",
   "metadata": {},
   "source": [
    "### Visualization"
   ]
  },
  {
   "cell_type": "code",
   "execution_count": null,
   "metadata": {},
   "outputs": [],
   "source": [
    "# Distribution of Product Prices\n",
    "plt.figure(figsize=(10, 6))\n",
    "sns.histplot(df_cleaned['product_price'], bins=30, kde=True, color='blue')\n",
    "plt.title('Distribution of Product Prices')\n",
    "plt.xlabel('Price ($)')\n",
    "plt.ylabel('Frequency')\n",
    "plt.show()"
   ]
  },
  {
   "cell_type": "code",
   "execution_count": null,
   "metadata": {},
   "outputs": [],
   "source": [
    "# Price vs Rating with Prime and Non-Prime categories\n",
    "plt.figure(figsize=(10, 6))\n",
    "sns.lineplot(x='product_star_rating', y='product_price', hue='is_prime', data=df_cleaned, palette='Set1', markers=True)\n",
    "plt.title('Price vs. Rating (Prime and Non-Prime)')\n",
    "plt.xlabel('Product Star Rating')\n",
    "plt.ylabel('Product Price ($)')\n",
    "plt.legend(title='Prime Eligible')\n",
    "plt.show()"
   ]
  },
  {
   "cell_type": "code",
   "execution_count": null,
   "metadata": {},
   "outputs": [],
   "source": [
    "# Distribution of Ratings\n",
    "plt.figure(figsize=(10, 6))\n",
    "sns.histplot(df_cleaned['product_star_rating'], bins=10, kde=True, color='green')\n",
    "plt.title('Distribution of Product Star Ratings')\n",
    "plt.xlabel('Star Rating')\n",
    "plt.ylabel('Frequency')\n",
    "plt.show()\n"
   ]
  },
  {
   "cell_type": "code",
   "execution_count": null,
   "metadata": {},
   "outputs": [],
   "source": [
    "# Bar Plot: Average Price by Star Rating (Prime and Non-Prime)\n",
    "plt.figure(figsize=(10, 6))\n",
    "sns.barplot(x='product_star_rating', y='product_price', hue='is_prime', data=df_cleaned, palette='Set1', ci=None)\n",
    "plt.title('Average Price by Rating (Prime and Non-Prime)')\n",
    "plt.xlabel('Product Star Rating')\n",
    "plt.ylabel('Average Product Price ($)')\n",
    "plt.legend(title='Prime Eligible')\n",
    "plt.show()"
   ]
  },
  {
   "cell_type": "code",
   "execution_count": null,
   "metadata": {},
   "outputs": [],
   "source": [
    "import seaborn as sns\n",
    "\n",
    "# Grouping the data for the heatmap\n",
    "heatmap_data = df_cleaned.groupby(['product_star_rating', 'is_prime', 'availability_status']).size().unstack(fill_value=0)\n",
    "\n",
    "# Plotting a heatmap\n",
    "plt.figure(figsize=(10, 6))\n",
    "sns.heatmap(heatmap_data, annot=True, fmt='d', cmap='YlGnBu', cbar=True)\n",
    "\n",
    "plt.title('Product Availability by Star Rating and Prime Status')\n",
    "plt.xlabel('Prime Status')\n",
    "plt.ylabel('Product Star Rating')\n",
    "plt.show()\n"
   ]
  },
  {
   "cell_type": "markdown",
   "metadata": {},
   "source": [
    "### Prepare Data for Machine Learning"
   ]
  },
  {
   "cell_type": "code",
   "execution_count": 110,
   "metadata": {},
   "outputs": [],
   "source": [
    "from sklearn.model_selection import train_test_split\n",
    "from sklearn.linear_model import LinearRegression\n",
    "from sklearn.metrics import mean_squared_error, r2_score\n",
    "from sklearn.tree import DecisionTreeRegressor\n",
    "from sklearn.preprocessing import PolynomialFeatures"
   ]
  },
  {
   "cell_type": "code",
   "execution_count": 99,
   "metadata": {},
   "outputs": [
    {
     "name": "stdout",
     "output_type": "stream",
     "text": [
      "Mean Squared Error (MSE): 39342.80246867711\n",
      "R-squared Score: -0.10498973367943343\n"
     ]
    }
   ],
   "source": [
    "# Select relevant columns for prediction\n",
    "features = ['product_star_rating', 'product_num_ratings', 'is_prime', 'is_best_seller', 'is_amazon_choice']\n",
    "X = df_cleaned[features]\n",
    "y = df_cleaned['product_price']\n",
    "\n",
    "# Convert categorical variables ('is_prime', 'is_best_seller', 'is_amazon_choice') to numerical\n",
    "X = pd.get_dummies(X, columns=['is_prime', 'is_best_seller', 'is_amazon_choice'], drop_first=True)\n",
    "\n",
    "# Split the dataset into training and testing sets (80% train, 20% test)\n",
    "X_train, X_test, y_train, y_test = train_test_split(X, y, test_size=0.2, random_state=42)\n",
    "\n",
    "# Initialize and train the Linear Regression model\n",
    "model = LinearRegression()\n",
    "model.fit(X_train, y_train)\n",
    "\n",
    "# Make predictions on the test data\n",
    "y_pred = model.predict(X_test)\n",
    "\n",
    "# Evaluate the model's performance\n",
    "mse = mean_squared_error(y_test, y_pred)\n",
    "r2 = r2_score(y_test, y_pred)\n",
    "\n",
    "# Display model evaluation results\n",
    "print(\"Mean Squared Error (MSE):\", mse)\n",
    "print(\"R-squared Score:\", r2)"
   ]
  },
  {
   "cell_type": "code",
   "execution_count": 105,
   "metadata": {},
   "outputs": [
    {
     "name": "stdout",
     "output_type": "stream",
     "text": [
      "Decision Tree Regressor Mean Squared Error (MSE): 82310.93483382354\n",
      "Decision Tree Regressor R-squared Score: -1.3118012000630652\n"
     ]
    }
   ],
   "source": [
    "# Select relevant columns for prediction\n",
    "features = ['product_star_rating', 'product_num_ratings', 'is_prime', 'is_best_seller', 'is_amazon_choice']\n",
    "X = df_cleaned[features]\n",
    "y = df_cleaned['product_price']\n",
    "\n",
    "# Convert categorical variables ('is_prime', 'is_best_seller', 'is_amazon_choice') to numerical\n",
    "X = pd.get_dummies(X, columns=['is_prime', 'is_best_seller', 'is_amazon_choice'], drop_first=True)\n",
    "\n",
    "# Split the dataset into training and testing sets (80% train, 20% test)\n",
    "X_train, X_test, y_train, y_test = train_test_split(X, y, test_size=0.2, random_state=42)\n",
    "\n",
    "# Initialize and train the Decision Tree Regressor\n",
    "dt_model = DecisionTreeRegressor(random_state=42)\n",
    "\n",
    "# Fit the model\n",
    "dt_model.fit(X_train, y_train)\n",
    "\n",
    "# Make predictions on the test data\n",
    "y_pred_dt = dt_model.predict(X_test)\n",
    "\n",
    "# Evaluate the model's performance\n",
    "mse_dt = mean_squared_error(y_test, y_pred_dt)\n",
    "r2_dt = r2_score(y_test, y_pred_dt)\n",
    "\n",
    "# Display model evaluation results\n",
    "print(\"Decision Tree Regressor Mean Squared Error (MSE):\", mse_dt)\n",
    "print(\"Decision Tree Regressor R-squared Score:\", r2_dt)"
   ]
  },
  {
   "cell_type": "code",
   "execution_count": 111,
   "metadata": {},
   "outputs": [
    {
     "name": "stdout",
     "output_type": "stream",
     "text": [
      "Polynomial Regression Mean Squared Error (MSE): 44322.01793450486\n",
      "Polynomial Regression R-squared Score: -0.24483696433611946\n"
     ]
    }
   ],
   "source": [
    "# Select relevant columns for prediction\n",
    "features = ['product_star_rating', 'product_num_ratings', 'is_prime', 'is_best_seller', 'is_amazon_choice']\n",
    "X = df_cleaned[features]\n",
    "y = df_cleaned['product_price']\n",
    "\n",
    "# Convert categorical variables to numerical\n",
    "X = pd.get_dummies(X, columns=['is_prime', 'is_best_seller', 'is_amazon_choice'], drop_first=True)\n",
    "\n",
    "# Create polynomial features\n",
    "poly = PolynomialFeatures(degree=2)  # You can adjust the degree\n",
    "X_poly = poly.fit_transform(X)\n",
    "\n",
    "# Split the dataset into training and testing sets (80% train, 20% test)\n",
    "X_train, X_test, y_train, y_test = train_test_split(X_poly, y, test_size=0.2, random_state=42)\n",
    "\n",
    "# Initialize and train the Linear Regression model\n",
    "poly_model = LinearRegression()\n",
    "poly_model.fit(X_train, y_train)\n",
    "\n",
    "# Make predictions on the test data\n",
    "y_pred = poly_model.predict(X_test)\n",
    "\n",
    "# Evaluate the model's performance\n",
    "mse_poly = mean_squared_error(y_test, y_pred)\n",
    "r2_poly = r2_score(y_test, y_pred)\n",
    "\n",
    "# Display model evaluation results\n",
    "print(\"Polynomial Regression Mean Squared Error (MSE):\", mse_poly)\n",
    "print(\"Polynomial Regression R-squared Score:\", r2_poly)"
   ]
  }
 ],
 "metadata": {
  "kernelspec": {
   "display_name": "Python 3",
   "language": "python",
   "name": "python3"
  },
  "language_info": {
   "codemirror_mode": {
    "name": "ipython",
    "version": 3
   },
   "file_extension": ".py",
   "mimetype": "text/x-python",
   "name": "python",
   "nbconvert_exporter": "python",
   "pygments_lexer": "ipython3",
   "version": "3.12.3"
  }
 },
 "nbformat": 4,
 "nbformat_minor": 2
}
